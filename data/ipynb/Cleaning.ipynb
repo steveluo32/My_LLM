{
 "cells": [
  {
   "cell_type": "code",
   "execution_count": 13,
   "id": "cf822828-c1c3-4258-a59e-fdf0d764d73a",
   "metadata": {
    "tags": [],
    "pycharm": {
     "name": "#%%\n"
    }
   },
   "outputs": [
    {
     "name": "stdout",
     "output_type": "stream",
     "text": [
      "文件处理完成。\n"
     ]
    }
   ],
   "source": [
    "import os\n",
    "\n",
    "def process_files(root_folder, cleaning_data_path):\n",
    "    # 读取清理数据文件并保存到列表中\n",
    "    with open(cleaning_data_path, 'r', encoding='utf-8') as file:\n",
    "        cleaning_data = [line.strip() for line in file.readlines()]\n",
    "\n",
    "    # 遍历文件夹及其所有子文件夹\n",
    "    for subdir, dirs, files in os.walk(root_folder):\n",
    "        for filename in files:\n",
    "            if filename.endswith('.txt') and filename != os.path.basename(cleaning_data_path):\n",
    "                file_path = os.path.join(subdir, filename)\n",
    "                with open(file_path, 'r', encoding='utf-8') as file:\n",
    "                    lines = file.readlines()\n",
    "                \n",
    "                # 处理空白行合并\n",
    "                new_lines = []\n",
    "                blank_line_count = 0\n",
    "                for line in lines:\n",
    "                    if line.strip() == '':\n",
    "                        blank_line_count += 1\n",
    "                        if blank_line_count == 1:\n",
    "                            new_lines.append(line)\n",
    "                    else:\n",
    "                        blank_line_count = 0\n",
    "                        new_lines.append(line)\n",
    "                \n",
    "                # 删除与清理数据匹配的行\n",
    "                final_lines = [line for line in new_lines if line.strip() not in cleaning_data]\n",
    "\n",
    "                # 写回修改后的内容\n",
    "                with open(file_path, 'w', encoding='utf-8') as file:\n",
    "                    file.writelines(final_lines)\n",
    "\n",
    "# 指定文件夹路径和清理数据文件路径\n",
    "root_folder_path = 'scraping_data/cis.unimelb.edu.au'\n",
    "# root_folder_path = 'scraping_data/melbconnect.com.au'\n",
    "cleaning_data_file_path = 'cleaning_data.txt'\n",
    "\n",
    "process_files(root_folder_path, cleaning_data_file_path)\n",
    "print(\"文件处理完成。\")"
   ]
  },
  {
   "cell_type": "code",
   "execution_count": null,
   "id": "fa14a407-f874-4eab-8178-03103fd14908",
   "metadata": {
    "pycharm": {
     "name": "#%%\n"
    }
   },
   "outputs": [],
   "source": []
  }
 ],
 "metadata": {
  "kernelspec": {
   "display_name": "Python 3 (ipykernel)",
   "language": "python",
   "name": "python3"
  },
  "language_info": {
   "codemirror_mode": {
    "name": "ipython",
    "version": 3
   },
   "file_extension": ".py",
   "mimetype": "text/x-python",
   "name": "python",
   "nbconvert_exporter": "python",
   "pygments_lexer": "ipython3",
   "version": "3.9.12"
  }
 },
 "nbformat": 4,
 "nbformat_minor": 5
}