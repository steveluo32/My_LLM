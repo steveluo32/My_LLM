{
 "cells": [
  {
   "cell_type": "code",
   "execution_count": 11,
   "id": "bb71984c-3be9-4ce0-92a7-b02d5d6536eb",
   "metadata": {
    "pycharm": {
     "name": "#%%\n"
    },
    "tags": []
   },
   "outputs": [
    {
     "name": "stdout",
     "output_type": "stream",
     "text": [
      "Visiting: mailto:team@melbconnectcoworking.com.au\n",
      "Error during requests to mailto:team@melbconnectcoworking.com.au: No connection adapters were found for 'mailto:team@melbconnectcoworking.com.au'\n",
      "Visiting: mailto:ai-assurance@cis.unimelb.edu.au\n",
      "Error during requests to mailto:ai-assurance@cis.unimelb.edu.au: No connection adapters were found for 'mailto:ai-assurance@cis.unimelb.edu.au'\n",
      "Visiting: mailto:concierge-melbconnect@unimelb.edu.au\n",
      "Error during requests to mailto:concierge-melbconnect@unimelb.edu.au: No connection adapters were found for 'mailto:concierge-melbconnect@unimelb.edu.au'\n",
      "Visiting: http://www.cis.unimelb.edu.au\n",
      "Error during requests to http://www.cis.unimelb.edu.au: HTTPConnectionPool(host='www.cis.unimelb.edu.au', port=80): Max retries exceeded with url: / (Caused by NewConnectionError('<urllib3.connection.HTTPConnection object at 0x11117e850>: Failed to establish a new connection: [Errno 60] Operation timed out'))\n"
     ]
    }
   ],
   "source": [
    "import os\n",
    "import random\n",
    "import time\n",
    "import requests\n",
    "from bs4 import BeautifulSoup\n",
    "from urllib.parse import urljoin\n",
    "\n",
    "from selenium import webdriver\n",
    "from selenium.webdriver.chrome.service import Service\n",
    "from webdriver_manager.chrome import ChromeDriverManager\n",
    "from selenium.webdriver.common.by import By\n",
    "import time\n",
    "\n",
    "\n",
    "def crawl_site(start_url, visited_urls_file, urls_file, not_visiting_urls_file):\n",
    "    \n",
    "    # 初始化集合\n",
    "    not_visiting_urls = set()\n",
    "    visited_urls = set()\n",
    "    urls_to_visit = set([start_url])\n",
    "\n",
    "    # 在函数的开头打开文件，并在整个函数执行期间保持打开状态\n",
    "    with open(urls_file, 'a+', encoding='utf-8') as urls_f, \\\n",
    "        open(visited_urls_file, 'a+', encoding='utf-8') as visited_urls_f, \\\n",
    "        open(not_visiting_urls_file, 'r', encoding='utf-8') as not_visiting_urls_f:\n",
    "        # 读取 urls_file 文件并更新 urls_to_visit 集合\n",
    "        urls_f.seek(0)\n",
    "        for url in urls_f:\n",
    "            urls_to_visit.add(url.strip())\n",
    "\n",
    "        # 读取 visited_urls_file 文件并更新 visited_urls 集合\n",
    "        visited_urls_f.seek(0)\n",
    "        for url in visited_urls_f:\n",
    "            visited_urls.add(url.strip())\n",
    "            \n",
    "        not_visiting_urls_f.seek(0)\n",
    "        for url in not_visiting_urls_f:\n",
    "            not_visiting_urls.add(url.strip())\n",
    "\n",
    "        # 从 urls_to_visit 中去除已访问过的 URLs\n",
    "        urls_to_visit.difference_update(visited_urls)\n",
    "\n",
    "        while urls_to_visit:\n",
    "            current_url = urls_to_visit.pop()\n",
    "\n",
    "            # 只有当current_url不在visited_urls里时才进行爬取\n",
    "            if current_url not in visited_urls and all(sub_url not in current_url for sub_url in not_visiting_urls):\n",
    "                print(f\"Visiting: {current_url}\")\n",
    "                # 在尝试访问链接前，添加随机延迟\n",
    "                time.sleep(random.randint(1, 3))\n",
    "\n",
    "                try:\n",
    "                    response = requests.get(current_url)\n",
    "                    soup = BeautifulSoup(response.text, 'html.parser')\n",
    "\n",
    "                    # 提取并存储所有文字内容\n",
    "                    text_content = soup.get_text()\n",
    "\n",
    "                    # 移除current_url中的\"https:\"，并为文件路径准备\n",
    "                    sanitized_url = current_url.replace('https://', '').replace('http://', '')\n",
    "                    content_directory = f\"scraping_data/{sanitized_url}/\"\n",
    "                    content_file_path = os.path.join(content_directory, \"content.txt\") #加个scraping_data\n",
    "\n",
    "                    # 确保目录存在\n",
    "                    os.makedirs(content_directory, exist_ok=True)\n",
    "\n",
    "                    with open(content_file_path, 'w', encoding='utf-8') as content_f:\n",
    "                        content_f.write(f\"URL: {current_url}\\n{text_content}\\n{'='*100}\\n\\n\")\n",
    "\n",
    "                    # 查找并处理所有链接\n",
    "                    for link in soup.find_all('a', href=True):\n",
    "                        absolute_link = urljoin(current_url, link['href'])\n",
    "                        if (absolute_link not in visited_urls) and \\\n",
    "                        (absolute_link not in urls_to_visit) and \\\n",
    "                        (\"melbconnect\" in absolute_link) and \\\n",
    "                        all(sub_url not in absolute_link for sub_url in not_visiting_urls):\n",
    "                            urls_to_visit.add(absolute_link)\n",
    "                            urls_f.write(f\"{absolute_link}\\n\")\n",
    "\n",
    "                    visited_urls.add(current_url)\n",
    "                    visited_urls_f.write(f\"{current_url}\\n\")\n",
    "                except requests.RequestException as e:\n",
    "                    print(f\"Error during requests to {current_url}: {str(e)}\")\n",
    "\n",
    "\n",
    "if __name__ == \"__main__\":\n",
    "    # start_url = 'https://cis.unimelb.edu.au/'\n",
    "    start_url = 'https://melbconnect.com.au/'\n",
    "    visited_urls_file = 'scraping_urls/visited_urls.txt'\n",
    "    urls_file = 'scraping_urls/urls.txt'\n",
    "    not_visiting_urls_file = 'scraping_urls/not_visiting_urls.txt'\n",
    "    crawl_site(start_url, visited_urls_file, urls_file, not_visiting_urls_file)"
   ]
  },
  {
   "cell_type": "code",
   "execution_count": null,
   "id": "a54bd5b8",
   "metadata": {
    "collapsed": false,
    "jupyter": {
     "outputs_hidden": false
    },
    "pycharm": {
     "name": "#%%\n"
    }
   },
   "outputs": [],
   "source": [
    "from selenium import webdriver\n",
    "from selenium.webdriver.chrome.service import Service\n",
    "from webdriver_manager.chrome import ChromeDriverManager\n",
    "from selenium.webdriver.common.by import By\n",
    "import time\n",
    "\n",
    "# 初始化Chrome WebDriver\n",
    "driver = webdriver.Chrome(service=Service(ChromeDriverManager().install()))\n",
    "\n",
    "# 打开目标网页\n",
    "driver.get('https://melbconnect.com.au/')\n",
    "\n",
    "\n",
    "# 找到所有的动态加载的div元素\n",
    "dynamic_divs = driver.find_elements(By.CSS_SELECTOR, 'div.js-card-gallery')\n",
    "\n",
    "# 遍历每个div并获取其内容\n",
    "for div in dynamic_divs:\n",
    "    # 可以根据需要获取更多属性\n",
    "    entry_type = div.get_attribute('data-entry-types')\n",
    "    order = div.get_attribute('data-order')\n",
    "    ids = div.get_attribute('data-ids')\n",
    "    results_per_page = div.get_attribute('data-results-per-page')\n",
    "    print(f'Entry Type: {entry_type}, Order: {order}, IDs: {ids}, Results per page: {results_per_page}')\n",
    "    \n",
    "    # 如果需要获取div中的文本内容\n",
    "    print('Text Content:', div.text)\n",
    "\n",
    "# 关闭浏览器\n",
    "driver.quit()"
   ]
  },
  {
   "cell_type": "code",
   "execution_count": null,
   "id": "05495713",
   "metadata": {
    "collapsed": false,
    "jupyter": {
     "outputs_hidden": false
    },
    "pycharm": {
     "name": "#%%\n"
    }
   },
   "outputs": [],
   "source": [
    "from selenium import webdriver\n",
    "from selenium.webdriver.chrome.service import Service\n",
    "from webdriver_manager.chrome import ChromeDriverManager\n",
    "from selenium.webdriver.common.by import By\n",
    "import time\n",
    "\n",
    "# 初始化Chrome WebDriver\n",
    "driver = webdriver.Chrome(service=Service(ChromeDriverManager().install()))\n",
    "\n",
    "# 打开目标网页\n",
    "driver.get('https://melbconnect.com.au/')\n",
    "\n",
    "# 等待页面JavaScript加载完毕\n",
    "time.sleep(5)  # 根据实际情况调整等待时间\n",
    "\n",
    "# 找到所有的动态加载的div元素\n",
    "dynamic_divs = driver.find_elements(By.CSS_SELECTOR, 'div.js-card-gallery')\n",
    "\n",
    "# 遍历每个div\n",
    "for div in dynamic_divs:\n",
    "    # 在每个div中查找所有的<a>标签\n",
    "    links = div.find_elements(By.TAG_NAME, 'a')\n",
    "    # 输出每个链接的href属性\n",
    "    for link in links:\n",
    "        url = link.get_attribute('href')\n",
    "        print('Found URL:', url)\n",
    "\n",
    "# 关闭浏览器\n",
    "driver.quit()"
   ]
  },
  {
   "cell_type": "code",
   "execution_count": null,
   "id": "0f6cf919",
   "metadata": {
    "collapsed": false,
    "jupyter": {
     "outputs_hidden": false
    },
    "pycharm": {
     "name": "#%%\n"
    }
   },
   "outputs": [],
   "source": []
  },
  {
   "cell_type": "code",
   "execution_count": 10,
   "id": "c4eee419-0447-43a5-811b-055cdc27295a",
   "metadata": {
    "tags": [],
    "pycharm": {
     "name": "#%%\n"
    }
   },
   "outputs": [
    {
     "name": "stdout",
     "output_type": "stream",
     "text": [
      "Found URL: https://melbconnect.com.au/events/the-future-of-legal-practice-in-the-face-of-ai-with-stuart-fuller\n",
      "Found URL: https://melbconnect.com.au/events/2024-map-launch\n",
      "Found URL: https://melbconnect.com.au/events/wattle-fellowship-spotlight-2024-3\n",
      "Found URL: https://melbconnect.com.au/community/atomos\n",
      "Found URL: https://melbconnect.com.au/community/melbourne-climate-futures\n",
      "Found URL: https://melbconnect.com.au/community/world-view\n",
      "Found URL: https://melbconnect.com.au/discovery/shadow-players-sharpen-ai-weapons-in-online-war-whistleblower-warns\n",
      "Found URL: https://melbconnect.com.au/discovery/ilana-bean-on-the-birth-of-medical-illustration\n",
      "Found URL: https://melbconnect.com.au/discovery/kath-dolan\n"
     ]
    }
   ],
   "source": [
    "from selenium import webdriver\n",
    "from selenium.webdriver.chrome.service import Service\n",
    "from webdriver_manager.chrome import ChromeDriverManager\n",
    "from selenium.webdriver.common.by import By\n",
    "import time\n",
    "\n",
    "# 初始化Chrome WebDriver\n",
    "driver = webdriver.Chrome(service=Service(ChromeDriverManager().install()))\n",
    "\n",
    "# 打开目标网页\n",
    "driver.get('https://melbconnect.com.au/')\n",
    "\n",
    "# 等待页面JavaScript加载完毕\n",
    "time.sleep(5)  # 根据实际情况调整等待时间\n",
    "\n",
    "# 找到所有的动态加载的div元素\n",
    "dynamic_divs = driver.find_elements(By.CSS_SELECTOR, 'div.js-card-gallery')\n",
    "\n",
    "# 遍历每个div\n",
    "for div in dynamic_divs:\n",
    "    # 在每个div中查找所有的<a>标签\n",
    "    links = div.find_elements(By.TAG_NAME, 'a')\n",
    "    # 输出每个链接的href属性\n",
    "    for link in links:\n",
    "        url = link.get_attribute('href')\n",
    "        print('Found URL:', url)\n",
    "\n",
    "# 关闭浏览器\n",
    "driver.quit()"
   ]
  },
  {
   "cell_type": "code",
   "execution_count": null,
   "id": "100c954a-ac48-4288-86a3-1f7be8f73b8e",
   "metadata": {
    "pycharm": {
     "name": "#%%\n"
    }
   },
   "outputs": [],
   "source": []
  }
 ],
 "metadata": {
  "kernelspec": {
   "display_name": "Python 3 (ipykernel)",
   "language": "python",
   "name": "python3"
  },
  "language_info": {
   "codemirror_mode": {
    "name": "ipython",
    "version": 3
   },
   "file_extension": ".py",
   "mimetype": "text/x-python",
   "name": "python",
   "nbconvert_exporter": "python",
   "pygments_lexer": "ipython3",
   "version": "3.9.12"
  }
 },
 "nbformat": 4,
 "nbformat_minor": 5
}