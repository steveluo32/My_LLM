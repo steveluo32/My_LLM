{
 "cells": [
  {
   "cell_type": "code",
   "execution_count": 3,
   "id": "1d06e406-ccc4-4cf6-8baa-312d7ca59690",
   "metadata": {
    "tags": [],
    "pycharm": {
     "name": "#%%\n"
    }
   },
   "outputs": [
    {
     "name": "stdout",
     "output_type": "stream",
     "text": [
      "所有文件的换行符已移除。\n"
     ]
    }
   ],
   "source": [
    "# 读取原文件内容\n",
    "with open(\"cleaning_data.txt\", 'r', encoding='utf-8') as file:\n",
    "    lines = file.readlines()\n",
    "# 移除空白行\n",
    "new_lines = [line for line in lines if line.strip() != '']\n",
    "# 保存修改后的文件\n",
    "with open(file_path, 'w', encoding='utf-8') as file:\n",
    "    file.writelines(new_lines)\n",
    "\n",
    "print(\"所有文件中的空白行已移除。\")"
   ]
  },
  {
   "cell_type": "code",
   "execution_count": null,
   "id": "cf822828-c1c3-4258-a59e-fdf0d764d73a",
   "metadata": {
    "pycharm": {
     "name": "#%%\n"
    }
   },
   "outputs": [],
   "source": []
  }
 ],
 "metadata": {
  "kernelspec": {
   "display_name": "Python 3 (ipykernel)",
   "language": "python",
   "name": "python3"
  },
  "language_info": {
   "codemirror_mode": {
    "name": "ipython",
    "version": 3
   },
   "file_extension": ".py",
   "mimetype": "text/x-python",
   "name": "python",
   "nbconvert_exporter": "python",
   "pygments_lexer": "ipython3",
   "version": "3.9.12"
  }
 },
 "nbformat": 4,
 "nbformat_minor": 5
}